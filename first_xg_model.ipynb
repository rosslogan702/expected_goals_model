{
  "nbformat": 4,
  "nbformat_minor": 0,
  "metadata": {
    "colab": {
      "name": "first_xg_model.ipynb",
      "provenance": [],
      "authorship_tag": "ABX9TyPdXEhucmqi6POLiz8mJmwX",
      "include_colab_link": true
    },
    "kernelspec": {
      "name": "python3",
      "display_name": "Python 3"
    }
  },
  "cells": [
    {
      "cell_type": "markdown",
      "metadata": {
        "id": "view-in-github",
        "colab_type": "text"
      },
      "source": [
        "<a href=\"https://colab.research.google.com/github/rosslogan702/expected_goals_model/blob/master/first_xg_model.ipynb\" target=\"_parent\"><img src=\"https://colab.research.google.com/assets/colab-badge.svg\" alt=\"Open In Colab\"/></a>"
      ]
    },
    {
      "cell_type": "markdown",
      "metadata": {
        "id": "pttVM4oXkj2J",
        "colab_type": "text"
      },
      "source": [
        "###**Building an xG (Expected Goals) Model from Scratch**\n",
        "\n",
        "The following notebook walks through building an expected goals model from scratch using a dataset provided by SciSports.   \n",
        "\n",
        "The dataset is an artificial dataset however this is enough to walk through the process of attempting to build an xG model from scratch."
      ]
    },
    {
      "cell_type": "markdown",
      "metadata": {
        "colab_type": "text",
        "id": "T_UZKhwXm2mh"
      },
      "source": [
        "#### **What is xG?**\n",
        "\n",
        "The best definition I can find of xG after a quick google search is the following from the official Bundesliga website which states that:\n",
        "\n",
        "*   Expected goals (xG) is a predictive model used to asess every goal-scoring chance and give a prediction on the likelihood of scoring\n",
        "*   An xG model computes for each chance the probability to score based on a number of features that we know about the chance e.g distance from goal, was the shot taken by a foot or a head\n",
        "*  The higher the xG, the higher the probability of scoring. With 1 being the maximum value assigned to a shot and 0 being the minimum.\n",
        "\n",
        "The predictive model that assigns a probability of scoring to each chance is what we are going to create in this notebook.\n",
        "\n",
        "[Bundesliga definition](https://www.bundesliga.com/en/bundesliga/news/expected-goals-xg-model-what-is-it-and-why-is-it-useful-sportec-solutions-3177)"
      ]
    },
    {
      "cell_type": "code",
      "metadata": {
        "id": "khXVSC3rnGz_",
        "colab_type": "code",
        "colab": {}
      },
      "source": [
        ""
      ],
      "execution_count": 0,
      "outputs": []
    }
  ]
}