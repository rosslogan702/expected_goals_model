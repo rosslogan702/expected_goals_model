{
  "nbformat": 4,
  "nbformat_minor": 0,
  "metadata": {
    "colab": {
      "name": "first_xg_model.ipynb",
      "provenance": [],
      "collapsed_sections": [],
      "authorship_tag": "ABX9TyMBzl4LKrGmVQCyND7NLtKE",
      "include_colab_link": true
    },
    "kernelspec": {
      "name": "python3",
      "display_name": "Python 3"
    }
  },
  "cells": [
    {
      "cell_type": "markdown",
      "metadata": {
        "id": "view-in-github",
        "colab_type": "text"
      },
      "source": [
        "<a href=\"https://colab.research.google.com/github/rosslogan702/expected_goals_model/blob/master/first_xg_model.ipynb\" target=\"_parent\"><img src=\"https://colab.research.google.com/assets/colab-badge.svg\" alt=\"Open In Colab\"/></a>"
      ]
    },
    {
      "cell_type": "markdown",
      "metadata": {
        "id": "pttVM4oXkj2J",
        "colab_type": "text"
      },
      "source": [
        "###**Building an xG (Expected Goals) Model**\n",
        "\n",
        "The following notebook walks through building an expected goals model from scratch using a dataset provided by SciSports.   \n",
        "\n",
        "The dataset is an artificial dataset however this is enough to walk through the process of attempting to build an xG model from scratch."
      ]
    },
    {
      "cell_type": "markdown",
      "metadata": {
        "colab_type": "text",
        "id": "T_UZKhwXm2mh"
      },
      "source": [
        "#### **What is xG?**\n",
        "\n",
        "The best definition I can find of xG after a quick google search is the following from the official Bundesliga website which states that:\n",
        "\n",
        "*   Expected goals (xG) is a predictive model used to asess every goal-scoring chance and give a prediction on the likelihood of scoring\n",
        "*   An xG model computes for each chance the probability to score based on a number of features that we know about the chance e.g distance from goal, was the shot taken by a foot or a head\n",
        "*  The higher the xG, the higher the probability of scoring. With 1 being the maximum value assigned to a shot and 0 being the minimum.\n",
        "\n",
        "The predictive model that assigns a probability of scoring to each chance is what we are going to create in this notebook.\n",
        "\n",
        "[Bundesliga definition](https://www.bundesliga.com/en/bundesliga/news/expected-goals-xg-model-what-is-it-and-why-is-it-useful-sportec-solutions-3177)"
      ]
    },
    {
      "cell_type": "markdown",
      "metadata": {
        "id": "XxHBdMJhphTF",
        "colab_type": "text"
      },
      "source": [
        "### **Download Dataset**\n",
        "\n",
        "Download the initial dataset."
      ]
    },
    {
      "cell_type": "code",
      "metadata": {
        "id": "khXVSC3rnGz_",
        "colab_type": "code",
        "outputId": "9f99d0c0-6131-4932-8518-e47be15bdcd6",
        "colab": {
          "base_uri": "https://localhost:8080/",
          "height": 286
        }
      },
      "source": [
        "!wget \"https://github.com/JanVanHaaren/how-to-expected-goals/raw/master/shots.parquet\" -O \"shots.parquet\""
      ],
      "execution_count": 46,
      "outputs": [
        {
          "output_type": "stream",
          "text": [
            "--2020-04-19 15:42:36--  https://github.com/JanVanHaaren/how-to-expected-goals/raw/master/shots.parquet\n",
            "Resolving github.com (github.com)... 140.82.113.4\n",
            "Connecting to github.com (github.com)|140.82.113.4|:443... connected.\n",
            "HTTP request sent, awaiting response... 302 Found\n",
            "Location: https://raw.githubusercontent.com/JanVanHaaren/how-to-expected-goals/master/shots.parquet [following]\n",
            "--2020-04-19 15:42:37--  https://raw.githubusercontent.com/JanVanHaaren/how-to-expected-goals/master/shots.parquet\n",
            "Resolving raw.githubusercontent.com (raw.githubusercontent.com)... 151.101.0.133, 151.101.64.133, 151.101.128.133, ...\n",
            "Connecting to raw.githubusercontent.com (raw.githubusercontent.com)|151.101.0.133|:443... connected.\n",
            "HTTP request sent, awaiting response... 200 OK\n",
            "Length: 7793234 (7.4M) [application/octet-stream]\n",
            "Saving to: ‘shots.parquet’\n",
            "\n",
            "shots.parquet       100%[===================>]   7.43M  17.8MB/s    in 0.4s    \n",
            "\n",
            "2020-04-19 15:42:37 (17.8 MB/s) - ‘shots.parquet’ saved [7793234/7793234]\n",
            "\n"
          ],
          "name": "stdout"
        }
      ]
    },
    {
      "cell_type": "markdown",
      "metadata": {
        "id": "7l5JdvrXqZCm",
        "colab_type": "text"
      },
      "source": [
        "### **Import Libraries**"
      ]
    },
    {
      "cell_type": "code",
      "metadata": {
        "id": "GJOpk_Ofpzjo",
        "colab_type": "code",
        "colab": {}
      },
      "source": [
        "import pandas as pd\n",
        "import numpy as np\n",
        "from sklearn.model_selection import train_test_split"
      ],
      "execution_count": 0,
      "outputs": []
    },
    {
      "cell_type": "markdown",
      "metadata": {
        "id": "EZBFoIslqvKj",
        "colab_type": "text"
      },
      "source": [
        "### **View Dataset**\n",
        "\n",
        "View the dataset downloaded and have a look at some of the features in the dataset."
      ]
    },
    {
      "cell_type": "code",
      "metadata": {
        "id": "rvnjVleVqt42",
        "colab_type": "code",
        "outputId": "a38cd3e5-0d8b-4c2f-f2b8-a2ee6b3d78e1",
        "colab": {
          "base_uri": "https://localhost:8080/",
          "height": 34
        }
      },
      "source": [
        "shots_df = pd.read_parquet('shots.parquet')\n",
        "print('Number of shots in dataset: {}'.format(shots_df.shape[0]))"
      ],
      "execution_count": 48,
      "outputs": [
        {
          "output_type": "stream",
          "text": [
            "Number of shots in dataset: 127643\n"
          ],
          "name": "stdout"
        }
      ]
    },
    {
      "cell_type": "code",
      "metadata": {
        "id": "VWbeFcQktRsT",
        "colab_type": "code",
        "outputId": "2a6f46a8-7452-4183-8185-e6bb846f2509",
        "colab": {
          "base_uri": "https://localhost:8080/",
          "height": 215
        }
      },
      "source": [
        "shots_df.head(5)"
      ],
      "execution_count": 49,
      "outputs": [
        {
          "output_type": "execute_result",
          "data": {
            "text/html": [
              "<div>\n",
              "<style scoped>\n",
              "    .dataframe tbody tr th:only-of-type {\n",
              "        vertical-align: middle;\n",
              "    }\n",
              "\n",
              "    .dataframe tbody tr th {\n",
              "        vertical-align: top;\n",
              "    }\n",
              "\n",
              "    .dataframe thead th {\n",
              "        text-align: right;\n",
              "    }\n",
              "</style>\n",
              "<table border=\"1\" class=\"dataframe\">\n",
              "  <thead>\n",
              "    <tr style=\"text-align: right;\">\n",
              "      <th></th>\n",
              "      <th>action_game_id</th>\n",
              "      <th>action_team_id</th>\n",
              "      <th>action_player_id</th>\n",
              "      <th>action_period</th>\n",
              "      <th>action_seconds</th>\n",
              "      <th>action_type_id</th>\n",
              "      <th>action_type_name</th>\n",
              "      <th>action_body_part_id</th>\n",
              "      <th>action_result</th>\n",
              "      <th>action_start_x</th>\n",
              "      <th>action_start_y</th>\n",
              "      <th>action_end_x</th>\n",
              "      <th>action_end_y</th>\n",
              "      <th>action1_game_id</th>\n",
              "      <th>action1_team_id</th>\n",
              "      <th>action1_player_id</th>\n",
              "      <th>action1_period</th>\n",
              "      <th>action1_seconds</th>\n",
              "      <th>action1_type_id</th>\n",
              "      <th>action1_type_name</th>\n",
              "      <th>action1_body_part_id</th>\n",
              "      <th>action1_result</th>\n",
              "      <th>action1_start_x</th>\n",
              "      <th>action1_start_y</th>\n",
              "      <th>action1_end_x</th>\n",
              "      <th>action1_end_y</th>\n",
              "      <th>action2_game_id</th>\n",
              "      <th>action2_team_id</th>\n",
              "      <th>action2_player_id</th>\n",
              "      <th>action2_period</th>\n",
              "      <th>action2_seconds</th>\n",
              "      <th>action2_type_id</th>\n",
              "      <th>action2_type_name</th>\n",
              "      <th>action2_body_part_id</th>\n",
              "      <th>action2_result</th>\n",
              "      <th>action2_start_x</th>\n",
              "      <th>action2_start_y</th>\n",
              "      <th>action2_end_x</th>\n",
              "      <th>action2_end_y</th>\n",
              "    </tr>\n",
              "  </thead>\n",
              "  <tbody>\n",
              "    <tr>\n",
              "      <th>0</th>\n",
              "      <td>0</td>\n",
              "      <td>6</td>\n",
              "      <td>5703</td>\n",
              "      <td>1</td>\n",
              "      <td>188.23</td>\n",
              "      <td>11</td>\n",
              "      <td>shot</td>\n",
              "      <td>0</td>\n",
              "      <td>0</td>\n",
              "      <td>98.75</td>\n",
              "      <td>40.17</td>\n",
              "      <td>105.0</td>\n",
              "      <td>40.85</td>\n",
              "      <td>0.0</td>\n",
              "      <td>6.0</td>\n",
              "      <td>3726.0</td>\n",
              "      <td>1.0</td>\n",
              "      <td>187.75</td>\n",
              "      <td>1.0</td>\n",
              "      <td>cross</td>\n",
              "      <td>0.0</td>\n",
              "      <td>1.0</td>\n",
              "      <td>99.28</td>\n",
              "      <td>49.54</td>\n",
              "      <td>99.28</td>\n",
              "      <td>40.70</td>\n",
              "      <td>0.0</td>\n",
              "      <td>6.0</td>\n",
              "      <td>4070.0</td>\n",
              "      <td>1.0</td>\n",
              "      <td>185.62</td>\n",
              "      <td>0.0</td>\n",
              "      <td>pass</td>\n",
              "      <td>0.0</td>\n",
              "      <td>1.0</td>\n",
              "      <td>93.53</td>\n",
              "      <td>65.36</td>\n",
              "      <td>98.78</td>\n",
              "      <td>49.04</td>\n",
              "    </tr>\n",
              "    <tr>\n",
              "      <th>1</th>\n",
              "      <td>0</td>\n",
              "      <td>6</td>\n",
              "      <td>3726</td>\n",
              "      <td>1</td>\n",
              "      <td>609.31</td>\n",
              "      <td>11</td>\n",
              "      <td>shot</td>\n",
              "      <td>0</td>\n",
              "      <td>0</td>\n",
              "      <td>84.20</td>\n",
              "      <td>48.48</td>\n",
              "      <td>105.0</td>\n",
              "      <td>27.40</td>\n",
              "      <td>0.0</td>\n",
              "      <td>6.0</td>\n",
              "      <td>5797.0</td>\n",
              "      <td>1.0</td>\n",
              "      <td>607.57</td>\n",
              "      <td>0.0</td>\n",
              "      <td>pass</td>\n",
              "      <td>0.0</td>\n",
              "      <td>1.0</td>\n",
              "      <td>97.48</td>\n",
              "      <td>60.35</td>\n",
              "      <td>83.83</td>\n",
              "      <td>48.11</td>\n",
              "      <td>0.0</td>\n",
              "      <td>6.0</td>\n",
              "      <td>3726.0</td>\n",
              "      <td>1.0</td>\n",
              "      <td>606.29</td>\n",
              "      <td>0.0</td>\n",
              "      <td>pass</td>\n",
              "      <td>0.0</td>\n",
              "      <td>1.0</td>\n",
              "      <td>89.66</td>\n",
              "      <td>61.61</td>\n",
              "      <td>98.06</td>\n",
              "      <td>60.93</td>\n",
              "    </tr>\n",
              "    <tr>\n",
              "      <th>2</th>\n",
              "      <td>0</td>\n",
              "      <td>281</td>\n",
              "      <td>2690</td>\n",
              "      <td>1</td>\n",
              "      <td>969.28</td>\n",
              "      <td>11</td>\n",
              "      <td>shot</td>\n",
              "      <td>0</td>\n",
              "      <td>0</td>\n",
              "      <td>92.68</td>\n",
              "      <td>46.52</td>\n",
              "      <td>105.0</td>\n",
              "      <td>41.08</td>\n",
              "      <td>0.0</td>\n",
              "      <td>281.0</td>\n",
              "      <td>6886.0</td>\n",
              "      <td>1.0</td>\n",
              "      <td>967.00</td>\n",
              "      <td>0.0</td>\n",
              "      <td>pass</td>\n",
              "      <td>0.0</td>\n",
              "      <td>1.0</td>\n",
              "      <td>88.35</td>\n",
              "      <td>62.71</td>\n",
              "      <td>92.55</td>\n",
              "      <td>46.39</td>\n",
              "      <td>0.0</td>\n",
              "      <td>281.0</td>\n",
              "      <td>2690.0</td>\n",
              "      <td>1.0</td>\n",
              "      <td>963.64</td>\n",
              "      <td>0.0</td>\n",
              "      <td>pass</td>\n",
              "      <td>0.0</td>\n",
              "      <td>1.0</td>\n",
              "      <td>72.30</td>\n",
              "      <td>60.37</td>\n",
              "      <td>88.05</td>\n",
              "      <td>62.41</td>\n",
              "    </tr>\n",
              "    <tr>\n",
              "      <th>3</th>\n",
              "      <td>0</td>\n",
              "      <td>6</td>\n",
              "      <td>4070</td>\n",
              "      <td>1</td>\n",
              "      <td>1193.44</td>\n",
              "      <td>11</td>\n",
              "      <td>shot</td>\n",
              "      <td>0</td>\n",
              "      <td>0</td>\n",
              "      <td>94.40</td>\n",
              "      <td>46.14</td>\n",
              "      <td>104.9</td>\n",
              "      <td>37.30</td>\n",
              "      <td>0.0</td>\n",
              "      <td>6.0</td>\n",
              "      <td>3726.0</td>\n",
              "      <td>1.0</td>\n",
              "      <td>1191.37</td>\n",
              "      <td>0.0</td>\n",
              "      <td>pass</td>\n",
              "      <td>1.0</td>\n",
              "      <td>1.0</td>\n",
              "      <td>89.30</td>\n",
              "      <td>64.65</td>\n",
              "      <td>94.55</td>\n",
              "      <td>46.29</td>\n",
              "      <td>0.0</td>\n",
              "      <td>6.0</td>\n",
              "      <td>5748.0</td>\n",
              "      <td>1.0</td>\n",
              "      <td>1189.19</td>\n",
              "      <td>0.0</td>\n",
              "      <td>pass</td>\n",
              "      <td>0.0</td>\n",
              "      <td>1.0</td>\n",
              "      <td>73.04</td>\n",
              "      <td>15.18</td>\n",
              "      <td>88.79</td>\n",
              "      <td>64.14</td>\n",
              "    </tr>\n",
              "    <tr>\n",
              "      <th>4</th>\n",
              "      <td>0</td>\n",
              "      <td>6</td>\n",
              "      <td>6514</td>\n",
              "      <td>1</td>\n",
              "      <td>1359.36</td>\n",
              "      <td>11</td>\n",
              "      <td>shot</td>\n",
              "      <td>1</td>\n",
              "      <td>0</td>\n",
              "      <td>93.52</td>\n",
              "      <td>27.95</td>\n",
              "      <td>105.0</td>\n",
              "      <td>40.87</td>\n",
              "      <td>0.0</td>\n",
              "      <td>6.0</td>\n",
              "      <td>6514.0</td>\n",
              "      <td>1.0</td>\n",
              "      <td>1357.96</td>\n",
              "      <td>21.0</td>\n",
              "      <td>dribble</td>\n",
              "      <td>0.0</td>\n",
              "      <td>1.0</td>\n",
              "      <td>96.79</td>\n",
              "      <td>28.07</td>\n",
              "      <td>93.64</td>\n",
              "      <td>28.07</td>\n",
              "      <td>0.0</td>\n",
              "      <td>6.0</td>\n",
              "      <td>1015.0</td>\n",
              "      <td>1.0</td>\n",
              "      <td>1356.12</td>\n",
              "      <td>3.0</td>\n",
              "      <td>freekick_crossed</td>\n",
              "      <td>0.0</td>\n",
              "      <td>1.0</td>\n",
              "      <td>79.67</td>\n",
              "      <td>6.67</td>\n",
              "      <td>96.47</td>\n",
              "      <td>27.75</td>\n",
              "    </tr>\n",
              "  </tbody>\n",
              "</table>\n",
              "</div>"
            ],
            "text/plain": [
              "   action_game_id  action_team_id  ...  action2_end_x  action2_end_y\n",
              "0               0               6  ...          98.78          49.04\n",
              "1               0               6  ...          98.06          60.93\n",
              "2               0             281  ...          88.05          62.41\n",
              "3               0               6  ...          88.79          64.14\n",
              "4               0               6  ...          96.47          27.75\n",
              "\n",
              "[5 rows x 39 columns]"
            ]
          },
          "metadata": {
            "tags": []
          },
          "execution_count": 49
        }
      ]
    },
    {
      "cell_type": "code",
      "metadata": {
        "id": "d6x3Cww0wIG0",
        "colab_type": "code",
        "outputId": "af122774-1973-47c1-ecec-22ef64d5e413",
        "colab": {
          "base_uri": "https://localhost:8080/",
          "height": 252
        }
      },
      "source": [
        "print(\"Features included in the dataset are: \\n{}\".format(shots_df.columns))"
      ],
      "execution_count": 50,
      "outputs": [
        {
          "output_type": "stream",
          "text": [
            "Features included in the dataset are: \n",
            "Index(['action_game_id', 'action_team_id', 'action_player_id', 'action_period',\n",
            "       'action_seconds', 'action_type_id', 'action_type_name',\n",
            "       'action_body_part_id', 'action_result', 'action_start_x',\n",
            "       'action_start_y', 'action_end_x', 'action_end_y', 'action1_game_id',\n",
            "       'action1_team_id', 'action1_player_id', 'action1_period',\n",
            "       'action1_seconds', 'action1_type_id', 'action1_type_name',\n",
            "       'action1_body_part_id', 'action1_result', 'action1_start_x',\n",
            "       'action1_start_y', 'action1_end_x', 'action1_end_y', 'action2_game_id',\n",
            "       'action2_team_id', 'action2_player_id', 'action2_period',\n",
            "       'action2_seconds', 'action2_type_id', 'action2_type_name',\n",
            "       'action2_body_part_id', 'action2_result', 'action2_start_x',\n",
            "       'action2_start_y', 'action2_end_x', 'action2_end_y'],\n",
            "      dtype='object')\n"
          ],
          "name": "stdout"
        }
      ]
    },
    {
      "cell_type": "markdown",
      "metadata": {
        "id": "xZm4q5e9t63O",
        "colab_type": "text"
      },
      "source": [
        "There are a number of features in the dataset which are all explained below.   \n",
        "\n",
        "The definitions of the features come from https://github.com/JanVanHaaren/how-to-expected-goals/blob/master/how-to-expected-goals.ipynb\n",
        "\n"
      ]
    },
    {
      "cell_type": "markdown",
      "metadata": {
        "id": "MMes6ROJuQZ5",
        "colab_type": "text"
      },
      "source": [
        "### **Feature Definitions**\n",
        "\n",
        "For each shot, the dataset contains the following information for the shot as well as the two actions immediately preceding the shot:\n",
        "\n",
        "\n",
        "\n",
        "*   game_id: a unique identifier of the game;\n",
        "*   team_id: a unique identifier of the team who performed the action;\n",
        "*   player_id: a unique identifier of the player who performed the action;\n",
        "*   period: 1 for the first half and 2 for the second half;\n",
        "*   seconds: the time elapsed in seconds since the start of the half;\n",
        "*   type_id: the identifier for the type of action;\n",
        "*   type_name: the name for the type of action;\n",
        "*   body_part_id: 0 for foot, 1 for head, 2 for other body part;\n",
        "*   result: the result of the action: 0 for failure, 1 for success;\n",
        "*   start_x: the x coordinate for the location where the action started, ranges from 0 to 105;\n",
        "*   start_y: the y coordinate for the location where the action started, ranges from 0 to 68;\n",
        "*   end_x: the x coordinate for the location where the action ended, ranges from 0 to 105;\n",
        "*   end_y: the y coordinate for the location where the action ended, ranges from 0 to 68.\n",
        "\n",
        "The prefix action refers to the shot, whereas the prefixes action1 and action2 refer to the last and one-but-last action prior to the shot.\n",
        "\n",
        "The mapping between the type_id and type_name values is as follows:\n",
        "\n",
        "*   0: pass\n",
        "*   1: cross\n",
        "*   2: throw in\n",
        "*   3: freekick crossed\n",
        "*   4: freekick short\n",
        "*   5: corner crossed\n",
        "*   6: corner short\n",
        "*   7: take on\n",
        "*   8: foul\n",
        "*   9: tackle\n",
        "*  10: interception\n",
        "*  11: shot\n",
        "*  12: shot penalty\n",
        "*  13: shot freekick\n",
        "*  14: keeper save\n",
        "*  18: clearance\n",
        "*  21: dribble\n",
        "*  22: goalkick"
      ]
    },
    {
      "cell_type": "markdown",
      "metadata": {
        "id": "2jgftlWh1q0D",
        "colab_type": "text"
      },
      "source": [
        "#### **Create a Baseline Model**\n",
        "\n",
        "Firstly, we are going to create a very basic and standard baseline model for predicting xG values for shots.  \n",
        "\n",
        "This model is going to be extremely basic and will contain a limited feature set without doing anything complicated.  \n",
        "\n",
        "The purpose of creating such a model is that it can serve as a barometer for more complicated models further down the line. That is, more complicated models are only worth if they outperform the simple model.\n",
        "\n",
        "The very first model in fact that we will create will be \"dumb\" in a sense as we will just create a python method that always returns 1. That is, it will always predict that the shot taken was scored."
      ]
    },
    {
      "cell_type": "code",
      "metadata": {
        "id": "qmQSHqOM1uFa",
        "colab_type": "code",
        "colab": {
          "base_uri": "https://localhost:8080/",
          "height": 34
        },
        "outputId": "7cee870a-077f-479a-dddb-d7bdc6f41209"
      },
      "source": [
        "# Sanity check to ensure that we are dealing with all shots\n",
        "shots_df.action_type_name.unique()"
      ],
      "execution_count": 51,
      "outputs": [
        {
          "output_type": "execute_result",
          "data": {
            "text/plain": [
              "array(['shot'], dtype=object)"
            ]
          },
          "metadata": {
            "tags": []
          },
          "execution_count": 51
        }
      ]
    },
    {
      "cell_type": "code",
      "metadata": {
        "id": "NE6nM4Mb3nQ1",
        "colab_type": "code",
        "colab": {
          "base_uri": "https://localhost:8080/",
          "height": 67
        },
        "outputId": "540eab22-b43a-44c8-c5ee-7a3dd89a28e6"
      },
      "source": [
        "# Of the shots, how many ended up in a success (indicated by 1, ie a goal) and how many ended up in a failure state (indicated by 0)\n",
        "shots_df.action_result.value_counts()"
      ],
      "execution_count": 52,
      "outputs": [
        {
          "output_type": "execute_result",
          "data": {
            "text/plain": [
              "0    114102\n",
              "1     13541\n",
              "Name: action_result, dtype: int64"
            ]
          },
          "metadata": {
            "tags": []
          },
          "execution_count": 52
        }
      ]
    },
    {
      "cell_type": "markdown",
      "metadata": {
        "id": "02RrpZRq5Fn-",
        "colab_type": "text"
      },
      "source": [
        "We can see from the above query that there are more shots that result in failure stats than success states in the dataset. This is OK but we will need to be careful when splitting the data into a training & testing set."
      ]
    },
    {
      "cell_type": "markdown",
      "metadata": {
        "id": "ZHpqAeo4-d-j",
        "colab_type": "text"
      },
      "source": [
        "#####**Train/Test Split**\n",
        "\n",
        "Split the data into a training & test set to enable us to evaluate the model performance fairly.  "
      ]
    },
    {
      "cell_type": "code",
      "metadata": {
        "id": "-Hp9BKhP4RHM",
        "colab_type": "code",
        "colab": {
          "base_uri": "https://localhost:8080/",
          "height": 34
        },
        "outputId": "0c0a81df-c345-43aa-c6e4-715f45c07e65"
      },
      "source": [
        "shot_features_df = shots_df.drop(columns=['action_result'])\n",
        "shot_features_df.shape"
      ],
      "execution_count": 53,
      "outputs": [
        {
          "output_type": "execute_result",
          "data": {
            "text/plain": [
              "(127643, 38)"
            ]
          },
          "metadata": {
            "tags": []
          },
          "execution_count": 53
        }
      ]
    },
    {
      "cell_type": "code",
      "metadata": {
        "id": "Kv2nVVXOACMY",
        "colab_type": "code",
        "colab": {}
      },
      "source": [
        "# X_ variables are the features and y_ are the results\n",
        "X_train, X_test, y_train, y_test = train_test_split(shot_features_df, \n",
        "                                                    shots_df['action_result'],\n",
        "                                                    train_size=0.8, \n",
        "                                                    stratify=shots_df['action_result'],\n",
        "                                                    random_state=42)"
      ],
      "execution_count": 0,
      "outputs": []
    },
    {
      "cell_type": "code",
      "metadata": {
        "id": "Eqtm4r_NAi2j",
        "colab_type": "code",
        "colab": {
          "base_uri": "https://localhost:8080/",
          "height": 118
        },
        "outputId": "c8bcc091-4de3-4ed3-d8bb-cfb4d97c8b9b"
      },
      "source": [
        "# Let's check how many successes (shots that led to a goal) & failures (shots that did not lead to a goal) are in the dataset\n",
        "print('y_train: {}'.format(y_train.value_counts()))\n",
        "# Let's check the same for y_test\n",
        "print('y_test: {}'.format(y_test.value_counts()))"
      ],
      "execution_count": 55,
      "outputs": [
        {
          "output_type": "stream",
          "text": [
            "y_train: 0    91281\n",
            "1    10833\n",
            "Name: action_result, dtype: int64\n",
            "y_test: 0    22821\n",
            "1     2708\n",
            "Name: action_result, dtype: int64\n"
          ],
          "name": "stdout"
        }
      ]
    },
    {
      "cell_type": "markdown",
      "metadata": {
        "id": "AYp4R96YCys-",
        "colab_type": "text"
      },
      "source": [
        "#### **Baseline Predictions**\n",
        "\n",
        "As we now have our first train/test split, we are now going to calculate our first set of predictions.  \n",
        "\n",
        "The very first model that we are going to use is going to be a dumb model that just always returns 1 (success or a goal) without taking into account any features.  \n",
        "\n",
        "This as we mentioned above, is to provide a baseline for more complicated models in the future to be compared against.\n",
        "\n"
      ]
    },
    {
      "cell_type": "code",
      "metadata": {
        "id": "ujcm1q7YA_oe",
        "colab_type": "code",
        "colab": {}
      },
      "source": [
        "def xg_predict(feature_set):\n",
        "  # Figure out the number of rows\n",
        "  num_rows = feature_set.shape[0]\n",
        "  # Return numpy array of 1's for required num rows\n",
        "  return np.ones((num_rows), dtype=int)"
      ],
      "execution_count": 0,
      "outputs": []
    },
    {
      "cell_type": "code",
      "metadata": {
        "id": "jkQ54DzXFmWm",
        "colab_type": "code",
        "colab": {
          "base_uri": "https://localhost:8080/",
          "height": 67
        },
        "outputId": "12c9fac2-044b-4567-d37b-fab36fb25af3"
      },
      "source": [
        "y_train_preds = xg_predict(X_train)\n",
        "unique_elements, counts_elements = np.unique(y_train_preds, return_counts=True)\n",
        "print(\"Frequency of unique values of y_train predictions:\")\n",
        "print(np.asarray((unique_elements, counts_elements)))"
      ],
      "execution_count": 58,
      "outputs": [
        {
          "output_type": "stream",
          "text": [
            "Frequency of unique values of y_train predictions:\n",
            "[[     1]\n",
            " [102114]]\n"
          ],
          "name": "stdout"
        }
      ]
    },
    {
      "cell_type": "code",
      "metadata": {
        "id": "mUX2ubEjGnB2",
        "colab_type": "code",
        "colab": {
          "base_uri": "https://localhost:8080/",
          "height": 67
        },
        "outputId": "74053382-4659-462b-d4e2-de74e800a7c7"
      },
      "source": [
        "y_test_preds = xg_predict(X_test)\n",
        "unique_elements, counts_elements = np.unique(y_test_preds, return_counts=True)\n",
        "print(\"Frequency of unique values of y_test predictions:\")\n",
        "print(np.asarray((unique_elements, counts_elements)))"
      ],
      "execution_count": 59,
      "outputs": [
        {
          "output_type": "stream",
          "text": [
            "Frequency of unique values of y_test predictions:\n",
            "[[    1]\n",
            " [25529]]\n"
          ],
          "name": "stdout"
        }
      ]
    },
    {
      "cell_type": "markdown",
      "metadata": {
        "id": "5lGsJ6LuHOzI",
        "colab_type": "text"
      },
      "source": [
        "As expected, the function makes a prediction of 1 for all shots. Now that we have this we need a way of evaluating the performance of this \"dumb\" model."
      ]
    }
  ]
}